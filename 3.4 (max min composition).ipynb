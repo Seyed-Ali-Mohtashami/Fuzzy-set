{
 "cells": [
  {
   "cell_type": "code",
   "execution_count": 29,
   "id": "8ac27c54",
   "metadata": {},
   "outputs": [
    {
     "name": "stdout",
     "output_type": "stream",
     "text": [
      "min array is : [0.4 0.2 0.5 0.7]\n",
      "max min:  0.7\n",
      "\n",
      "product array is : [0.36 0.04 0.4  0.63]\n",
      "max product is :  0.63\n",
      "\n"
     ]
    }
   ],
   "source": [
    "import numpy as np\n",
    "\n",
    "#----------------------------------- define max min composition function ----------------------------------- \n",
    "def f_max_min(x_item,z_item):\n",
    "\n",
    "    i=np.where(X==x_item)[0]\n",
    "    j=np.where(Z==z_item)[0]\n",
    "\n",
    "    min_array=np.zeros(Y.size)\n",
    "\n",
    "    for item in range(Y.size):\n",
    "        if R1[i,item] < R2[item,j]:\n",
    "            minn=R1[i,item]\n",
    "        else:\n",
    "            minn=R2[item,j]\n",
    "        min_array[item]=minn\n",
    "    print('min array is :',min_array)\n",
    "    maxx=min_array.max()\n",
    "\n",
    "    return maxx\n",
    "#----------------------------------- define max min composition function ----------------------------------- \n",
    "\n",
    "\n",
    "#----------------------------------- define max product composition function ----------------------------------- \n",
    "def f_max_product(x_item,z_item):\n",
    "\n",
    "    i=np.where(X==x_item)[0]\n",
    "    j=np.where(Z==z_item)[0]\n",
    "\n",
    "    product_array=np.zeros(Y.size)\n",
    "    \n",
    "    for item in range(Y.size):\n",
    "        product_array[item]=R1[i,item] * R2[item,j]\n",
    "    \n",
    "    print('product array is :',product_array)\n",
    "    maxx=product_array.max()\n",
    "\n",
    "    return maxx\n",
    "#----------------------------------- define max product composition function ----------------------------------- \n",
    "\n",
    "\n",
    "X=np.array([1,2,3])\n",
    "Y=np.array(['al','be','la','si'])\n",
    "Z=np.array(['a','b'])\n",
    "\n",
    "R1=np.array([\n",
    "    [0.1,0.3,0.5,0.7],\n",
    "    [0.4,0.2,0.8,0.9],\n",
    "    [0.6,0.8,0.3,0.2]\n",
    "])\n",
    "R2=np.array([\n",
    "    [0.9,0.1],\n",
    "    [0.2,0.3],\n",
    "    [0.5,0.6],\n",
    "    [0.7,0.2]\n",
    "])\n",
    "\n",
    "X_item=2\n",
    "Z_item='a'\n",
    "\n",
    "\n",
    "max_min=f_max_min(X_item,Z_item)\n",
    "print('max min: ',max_min)\n",
    "print()\n",
    "\n",
    "max_product=f_max_product(X_item,Z_item)\n",
    "print('max product is : ',max_product)\n",
    "print()\n",
    "\n",
    "\n",
    "#print(min_array)\n",
    "#print(maxx)"
   ]
  }
 ],
 "metadata": {
  "kernelspec": {
   "display_name": "Python 3 (ipykernel)",
   "language": "python",
   "name": "python3"
  },
  "language_info": {
   "codemirror_mode": {
    "name": "ipython",
    "version": 3
   },
   "file_extension": ".py",
   "mimetype": "text/x-python",
   "name": "python",
   "nbconvert_exporter": "python",
   "pygments_lexer": "ipython3",
   "version": "3.9.12"
  }
 },
 "nbformat": 4,
 "nbformat_minor": 5
}

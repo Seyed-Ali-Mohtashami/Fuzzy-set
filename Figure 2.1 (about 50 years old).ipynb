{
 "cells": [
  {
   "cell_type": "code",
   "execution_count": null,
   "id": "ed635ca5",
   "metadata": {},
   "outputs": [],
   "source": [
    "import skfuzzy as fuzzy\n",
    "import numpy as np\n",
    "import matplotlib.pyplot as plt\n",
    "\n",
    "x=np.arange(0,101,1)\n",
    "mean=50\n",
    "sd=7\n",
    "y=fuzzy.gaussmf(x,mean,sd)\n",
    "\n",
    "plt.plot(x,y)\n",
    "plt.title('(b) MF on a continous Unives')\n",
    "plt.xlabel('X=age')\n",
    "plt.ylabel('Membership Grades')\n",
    "plt.xticks([0,50,100])\n",
    "plt.show()\n",
    "\n"
   ]
  }
 ],
 "metadata": {
  "kernelspec": {
   "display_name": "Python 3 (ipykernel)",
   "language": "python",
   "name": "python3"
  },
  "language_info": {
   "codemirror_mode": {
    "name": "ipython",
    "version": 3
   },
   "file_extension": ".py",
   "mimetype": "text/x-python",
   "name": "python",
   "nbconvert_exporter": "python",
   "pygments_lexer": "ipython3",
   "version": "3.9.12"
  }
 },
 "nbformat": 4,
 "nbformat_minor": 5
}

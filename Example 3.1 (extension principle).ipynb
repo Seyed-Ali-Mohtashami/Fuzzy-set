{
 "cells": [
  {
   "cell_type": "code",
   "execution_count": 44,
   "id": "9f268fc1",
   "metadata": {},
   "outputs": [
    {
     "name": "stdout",
     "output_type": "stream",
     "text": [
      "extension principle to fuzzy set with discrete univers\n",
      "\n",
      "mx,x\n",
      "(0.1/-2) (0.4/-1) (0.8/0) (0.9/1) (0.3/2) \n",
      "\n",
      "f(x)=x**2 - 3\n",
      "\n",
      "my,y\n",
      "(0.3/-3) (0.8/-2) (0.9/1) \n"
     ]
    }
   ],
   "source": [
    "import numpy as np\n",
    "print('extension principle to fuzzy set with discrete univers')\n",
    "print()\n",
    "#---------------------------------- x, mx ----------------------------------\n",
    "x=np.array([-2,-1,0,1,2])\n",
    "mx=np.array([0.1,0.4,0.8,0.9,0.3])\n",
    "print('mx,x')\n",
    "for i in range(x.size):\n",
    "    print('('+str(mx[i])+'/'+str(x[i])+')',end=' ')\n",
    "print()\n",
    "\n",
    "#----------------------------------- f(x) ----------------------------------\n",
    "def fx(xx):\n",
    "    yy=np.zeros(xx.size,dtype=int)\n",
    "    for i in range(xx.size):\n",
    "        yy[i]=xx[i]**2-3\n",
    "    return yy\n",
    "#---------------------------------- y, my ----------------------------------\n",
    "print()\n",
    "print('f(x)=x**2 - 3')\n",
    "print()\n",
    "y=fx(x)\n",
    "my=mx.copy()\n",
    "#print('my,y')\n",
    "#for i in range(y.size):\n",
    "#    print('('+str(my[i])+'/'+str(y[i])+')',end=' ')\n",
    "#print()\n",
    "#---------------------------------- correct my ------------------------------\n",
    "for i in range(y.size):\n",
    "    fa=np.where(y==y[i])\n",
    "    f=fa[0]\n",
    "    value=my[i]\n",
    "    for j in range(f.size):\n",
    "        if my[f[j]]> value:\n",
    "            value=my[f[j]]\n",
    "    my[i]=value\n",
    "#print('my,y')\n",
    "#for i in range(y.size):\n",
    "#    print('('+str(my[i])+'/'+str(y[i])+')',end=' ')\n",
    "#print()\n",
    "new_y=np.unique(y)\n",
    "new_my=np.unique(my)\n",
    "print('my,y')\n",
    "for i in range(new_y.size):\n",
    "    print('('+str(new_my[i])+'/'+str(new_y[i])+')',end=' ')\n",
    "print()"
   ]
  }
 ],
 "metadata": {
  "kernelspec": {
   "display_name": "Python 3 (ipykernel)",
   "language": "python",
   "name": "python3"
  },
  "language_info": {
   "codemirror_mode": {
    "name": "ipython",
    "version": 3
   },
   "file_extension": ".py",
   "mimetype": "text/x-python",
   "name": "python",
   "nbconvert_exporter": "python",
   "pygments_lexer": "ipython3",
   "version": "3.9.12"
  }
 },
 "nbformat": 4,
 "nbformat_minor": 5
}
